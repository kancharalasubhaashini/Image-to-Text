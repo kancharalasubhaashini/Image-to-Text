{
 "cells": [
  {
   "cell_type": "code",
   "execution_count": 6,
   "metadata": {},
   "outputs": [
    {
     "name": "stdout",
     "output_type": "stream",
     "text": [
      "now children state should after above same long made such\n",
      "\n",
      "point run take call together few being would walk give\n"
     ]
    }
   ],
   "source": [
    "from PIL import Image\n",
    "from pytesseract import pytesseract\n",
    "path_to_tesseract=\"C:/Program Files/Tesseract-OCR/tesseract.exe\"\n",
    "image=\"sampletext.png\"\n",
    "img=Image.open(image)\n",
    "pytesseract.tesseract_cmd=path_to_tesseract\n",
    "text=pytesseract.image_to_string(img)\n",
    "print(text[:-1])"
   ]
  },
  {
   "cell_type": "code",
   "execution_count": null,
   "metadata": {},
   "outputs": [],
   "source": []
  }
 ],
 "metadata": {
  "kernelspec": {
   "display_name": "Python 3",
   "language": "python",
   "name": "python3"
  },
  "language_info": {
   "codemirror_mode": {
    "name": "ipython",
    "version": 3
   },
   "file_extension": ".py",
   "mimetype": "text/x-python",
   "name": "python",
   "nbconvert_exporter": "python",
   "pygments_lexer": "ipython3",
   "version": "3.7.0"
  },
  "orig_nbformat": 4
 },
 "nbformat": 4,
 "nbformat_minor": 2
}
